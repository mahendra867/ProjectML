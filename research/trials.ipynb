{
 "cells": [
  {
   "cell_type": "code",
   "execution_count": 18,
   "metadata": {},
   "outputs": [
    {
     "data": {
      "text/plain": [
       "'value1'"
      ]
     },
     "execution_count": 18,
     "metadata": {},
     "output_type": "execute_result"
    }
   ],
   "source": [
    "a={'key1':\"value1\",'key2':'Value2'} # here i created the dictionary\n",
    "\n",
    "a # i printed the output \n",
    "\n",
    "a['key1'] # here i printed the value of key1\n",
    "\n",
    "\n"
   ]
  },
  {
   "cell_type": "code",
   "execution_count": 19,
   "metadata": {},
   "outputs": [
    {
     "data": {
      "text/plain": [
       "'value1'"
      ]
     },
     "execution_count": 19,
     "metadata": {},
     "output_type": "execute_result"
    }
   ],
   "source": [
    "# usage of config box \n",
    "\n",
    "from box import ConfigBox \n",
    "\n",
    "a1=ConfigBox({'key1':\"value1\",'key2':'Value2'}) # here i created the conigBox with Dictionary \n",
    "\n",
    "a1['key1'] # this normal way of printing a key1 value of dictionary\n",
    "\n",
    "a1.key1 # here i printed the key1 value by just putting . to variable a1 rather than printing it by using like a1[key1]\n",
    "        # so by using ConfigBox we can print like this a1.key1 with very easily"
   ]
  },
  {
   "cell_type": "code",
   "execution_count": 13,
   "metadata": {},
   "outputs": [
    {
     "name": "stdout",
     "output_type": "stream",
     "text": [
      "8\n",
      "44\n"
     ]
    },
    {
     "ename": "NameError",
     "evalue": "name 'ensure_annotations' is not defined",
     "output_type": "error",
     "traceback": [
      "\u001b[1;31m---------------------------------------------------------------------------\u001b[0m",
      "\u001b[1;31mNameError\u001b[0m                                 Traceback (most recent call last)",
      "Cell \u001b[1;32mIn[13], line 10\u001b[0m\n\u001b[0;32m      5\u001b[0m get_product(\u001b[38;5;241m2\u001b[39m,\u001b[38;5;241m4\u001b[39m)\n\u001b[0;32m      7\u001b[0m get_product(\u001b[38;5;241m2\u001b[39m,\u001b[38;5;124m\"\u001b[39m\u001b[38;5;124m4\u001b[39m\u001b[38;5;124m\"\u001b[39m)\n\u001b[1;32m---> 10\u001b[0m \u001b[38;5;129m@ensure_annotations\u001b[39m\n\u001b[0;32m     11\u001b[0m \u001b[38;5;28;01mdef\u001b[39;00m \u001b[38;5;21mget_product\u001b[39m(x:\u001b[38;5;28mint\u001b[39m,y:\u001b[38;5;28mint\u001b[39m):\n\u001b[0;32m     12\u001b[0m    \u001b[38;5;28mprint\u001b[39m(x\u001b[38;5;241m*\u001b[39my)\n\u001b[0;32m     14\u001b[0m get_product(\u001b[38;5;241m2\u001b[39m,\u001b[38;5;124m\"\u001b[39m\u001b[38;5;124m4\u001b[39m\u001b[38;5;124m\"\u001b[39m)\n",
      "\u001b[1;31mNameError\u001b[0m: name 'ensure_annotations' is not defined"
     ]
    }
   ],
   "source": [
    " # what is ensure annotation  this below code helps us to determine the enusre annotation\n",
    "\n",
    "# @ ensure_annotations is used to throw the errors the when the data types does not get matches usually when we are dealing with the code ususally it dont thorw the error when 2 different data types does not get matches so by using ensure annotations we can detect the error when data types does not get match\n",
    "\n",
    "def get_product(x:int,y:int):\n",
    "    print(x*y)\n",
    "get_product(2,4)\n",
    "\n",
    "get_product(2,\"4\") # in this operation even the data does not get match according to inilized varaiables data types still it does not throw error \n",
    "\n",
    "\n",
    "@ensure_annotations\n",
    "def get_product(x:int,y:int):\n",
    "    print(x*y)\n",
    "\n",
    "get_product(2,\"4\") #  in this operation even the data does not get match according to inilized varaiables data types it does not get matchso it throwed the error throw\n",
    "\n"
   ]
  },
  {
   "cell_type": "code",
   "execution_count": null,
   "metadata": {},
   "outputs": [],
   "source": []
  },
  {
   "cell_type": "code",
   "execution_count": null,
   "metadata": {},
   "outputs": [],
   "source": []
  },
  {
   "cell_type": "code",
   "execution_count": null,
   "metadata": {},
   "outputs": [],
   "source": []
  }
 ],
 "metadata": {
  "kernelspec": {
   "display_name": "venv",
   "language": "python",
   "name": "python3"
  },
  "language_info": {
   "codemirror_mode": {
    "name": "ipython",
    "version": 3
   },
   "file_extension": ".py",
   "mimetype": "text/x-python",
   "name": "python",
   "nbconvert_exporter": "python",
   "pygments_lexer": "ipython3",
   "version": "3.9.17"
  }
 },
 "nbformat": 4,
 "nbformat_minor": 2
}
